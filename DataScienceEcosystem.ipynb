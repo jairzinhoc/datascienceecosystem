{
 "cells": [
  {
   "cell_type": "markdown",
   "id": "a63af2fb-8ae9-4433-8ca7-fc1a73225063",
   "metadata": {
    "tags": []
   },
   "source": [
    "# Data Science Tools and Ecosystem"
   ]
  },
  {
   "cell_type": "markdown",
   "id": "a949bd2c-57b0-447a-9121-55cfd02dde74",
   "metadata": {
    "tags": []
   },
   "source": [
    "In this notebook, Data Science Tools and Ecosystem are summarized."
   ]
  },
  {
   "cell_type": "code",
   "execution_count": null,
   "id": "2e513ce9-17ab-4df7-be4c-e443e63ad8a2",
   "metadata": {
    "tags": []
   },
   "outputs": [],
   "source": [
    "**Objectives**\n",
    "\n",
    "- Identify the criteria and roles for determining the language to learn.\n",
    "\n",
    "- Identify the users and benefits of Python.\n",
    "\n",
    "- Identify the users and uses of the R language."
   ]
  },
  {
   "cell_type": "code",
   "execution_count": null,
   "id": "67e44455-97d1-45ef-adab-37e0a5c01064",
   "metadata": {},
   "outputs": [],
   "source": [
    "Some of the popular languages that Data Scientists use are:\n",
    "    1. Python\n",
    "    2. R\n",
    "    3. Julia"
   ]
  },
  {
   "cell_type": "code",
   "execution_count": null,
   "id": "d5d1a7c2-0e41-4ab2-801f-a35a0f5547eb",
   "metadata": {},
   "outputs": [],
   "source": [
    "Some of the commonly used libraries used by Data Scientists include:\n",
    "    1. Pandas\n",
    "    2. NumPy\n",
    "    3. Matplotlib"
   ]
  },
  {
   "cell_type": "markdown",
   "id": "0754706d-5226-46bb-a5e7-ae082d059d8d",
   "metadata": {},
   "source": [
    "|Data Science Tools|\n",
    "|------------------|\n",
    "|Java-ML|\n",
    "|Apache MLlib|\n",
    "|Deeplearning4|"
   ]
  },
  {
   "cell_type": "code",
   "execution_count": null,
   "id": "f00c1454-17ee-4138-aafb-cd215e29b135",
   "metadata": {},
   "outputs": [],
   "source": [
    "### Below are a few examples of evaluating arithmetic expressions in Python"
   ]
  },
  {
   "cell_type": "code",
   "execution_count": 10,
   "id": "f57b63c2-8264-4a68-b9aa-d379f60ef52f",
   "metadata": {
    "tags": []
   },
   "outputs": [
    {
     "data": {
      "text/plain": [
       "17"
      ]
     },
     "execution_count": 10,
     "metadata": {},
     "output_type": "execute_result"
    }
   ],
   "source": [
    "# This a simple arithmetic expression to mutiply then add integers\n",
    "(3*4)+5"
   ]
  },
  {
   "cell_type": "code",
   "execution_count": 11,
   "id": "aba3350a-510d-42c2-8f00-5e86f99a0fd6",
   "metadata": {
    "tags": []
   },
   "outputs": [
    {
     "data": {
      "text/plain": [
       "3.3333333333333335"
      ]
     },
     "execution_count": 11,
     "metadata": {},
     "output_type": "execute_result"
    }
   ],
   "source": [
    "# This will convert 200 minutes to hours by diving by 60\n",
    "200/60"
   ]
  },
  {
   "cell_type": "markdown",
   "id": "016e8622-ac80-4d30-b449-38dab0beb6eb",
   "metadata": {
    "tags": []
   },
   "source": [
    "## Author \n",
    "Jairzinho Chin"
   ]
  },
  {
   "cell_type": "code",
   "execution_count": null,
   "id": "12ede319-e138-4cfc-96d0-9323d1a4b908",
   "metadata": {},
   "outputs": [],
   "source": []
  }
 ],
 "metadata": {
  "kernelspec": {
   "display_name": "Python",
   "language": "python",
   "name": "conda-env-python-py"
  },
  "language_info": {
   "codemirror_mode": {
    "name": "ipython",
    "version": 3
   },
   "file_extension": ".py",
   "mimetype": "text/x-python",
   "name": "python",
   "nbconvert_exporter": "python",
   "pygments_lexer": "ipython3",
   "version": "3.7.12"
  }
 },
 "nbformat": 4,
 "nbformat_minor": 5
}
